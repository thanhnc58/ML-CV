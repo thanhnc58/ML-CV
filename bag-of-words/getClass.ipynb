{
 "cells": [
  {
   "cell_type": "code",
   "execution_count": null,
   "metadata": {
    "collapsed": false
   },
   "outputs": [],
   "source": [
    "import matplotlib.pyplot as plt\n",
    "import argparse as ap\n",
    "import cv2\n",
    "import imutils \n",
    "import numpy as np\n",
    "import os\n",
    "from sklearn.svm import LinearSVC\n",
    "from sklearn.externals import joblib\n",
    "from scipy.cluster.vq import *\n",
    "import matplotlib.image as mpimg\n",
    "%matplotlib inline"
   ]
  },
  {
   "cell_type": "code",
   "execution_count": null,
   "metadata": {
    "collapsed": false
   },
   "outputs": [],
   "source": [
    "# Load the classifier, class names, scaler, number of clusters and vocabulary \n",
    "clf, classes_names, stdSlr, k, voc = joblib.load(\"bof.pkl\")\n",
    "# Get the path of the testing image(s) and store them in a list\n",
    "\n",
    "test_path = \"dataset/test/\"\n",
    "try:\n",
    "    testing_names = os.listdir(test_path)\n",
    "except OSError:\n",
    "    print \"No such directory {}\\nCheck if the file exists\".format(test_path)\n",
    "    exit()\n",
    "for testing_name in testing_names:\n",
    "    print 'd'\n",
    "    dir = os.path.join(test_path, testing_name)\n",
    "    class_path = imutils.imlist(dir)\n",
    "    image_paths+=class_path\n",
    "print image_paths\n",
    "\n"
   ]
  },
  {
   "cell_type": "code",
   "execution_count": null,
   "metadata": {
    "collapsed": false
   },
   "outputs": [],
   "source": [
    "# Create feature extraction and keypoint detector objects\n",
    "# fea_det = cv2.FeatureDetector_create(\"SIFT\")\n",
    "fea_det = cv2.xfeatures2d.SIFT_create()\n",
    "# des_ext = cv2.DescriptorExtractor_create(\"SIFT\")\n",
    "\n",
    "# List where all the descriptors are stored\n",
    "des_list = []\n",
    "\n",
    "for image_path in image_paths:\n",
    "    im = cv2.imread(image_path)\n",
    "#     imgplot = plt.imshow(im)\n",
    "    \n",
    "    # if im == None:\n",
    "    #     print \"No such file {}\\nCheck if the file exists\".format(image_path)\n",
    "    #     exit()\n",
    "    # kpts = fea_det.detect(im)\n",
    "    # kpts, des = des_ext.compute(im, kpts)\n",
    "    gray = cv2.cvtColor(im, cv2.COLOR_BGR2GRAY)\n",
    "    # kpts = fea_det.detect(im)\n",
    "    kpts, des = fea_det.detectAndCompute(gray, None)\n",
    "    des_list.append((image_path, des))   \n",
    "    \n",
    "# Stack all the descriptors vertically in a numpy array\n",
    "descriptors = des_list[0][1]\n",
    "for image_path, descriptor in des_list[0:]:\n",
    "    descriptors = np.vstack((descriptors, descriptor)) \n"
   ]
  },
  {
   "cell_type": "markdown",
   "metadata": {},
   "source": [
    "this code below calculate histogram of features of testing data and predict data"
   ]
  },
  {
   "cell_type": "code",
   "execution_count": null,
   "metadata": {
    "collapsed": true
   },
   "outputs": [],
   "source": [
    "test_features = np.zeros((len(image_paths), k), \"float32\")\n",
    "\n",
    "# TODO: Calculate the histogram of features\n",
    "# input: voc, des_list[i][1]\n",
    "# output: a historgarm feature test_features\n",
    "# hint: refer to findFeature.ipynb\n",
    "\n",
    "\n",
    "# Perform Tf-Idf vectorization\n",
    "nbr_occurences = np.sum( (test_features > 0) * 1, axis = 0)\n",
    "idf = np.array(np.log((1.0*len(image_paths)+1) / (1.0*nbr_occurences + 1)), 'float32')\n",
    "\n",
    "# Scale the features\n",
    "test_features = stdSlr.transform(test_features)\n",
    "\n",
    "# Perform the predictions\n",
    "predictions =  [classes_names[i] for i in clf.predict(test_features)]\n"
   ]
  },
  {
   "cell_type": "code",
   "execution_count": null,
   "metadata": {
    "collapsed": false
   },
   "outputs": [],
   "source": [
    "# Visualize the results, if \"visualize\" flag set to true by the user\n",
    "\n",
    "for image_path, prediction in zip(image_paths, predictions):\n",
    "    image = cv2.imread(image_path)\n",
    "#     cv2.namedWindow(\"Image\", cv2.WINDOW_NORMAL)\n",
    "    pt = (0, 3 * image.shape[0] // 4)\n",
    "    cv2.putText(image, prediction, pt ,cv2.FONT_HERSHEY_SCRIPT_COMPLEX, 2, [0, 255, 0], 2)\n",
    "#     cv2.imshow(\"Image\", image)\n",
    "    imgplot = plt.imshow(image)\n",
    "    plt.show()\n",
    "#     cv2.waitKey(3000)\n"
   ]
  }
 ],
 "metadata": {
  "kernelspec": {
   "display_name": "Python 2",
   "language": "python",
   "name": "python2"
  },
  "language_info": {
   "codemirror_mode": {
    "name": "ipython",
    "version": 2
   },
   "file_extension": ".py",
   "mimetype": "text/x-python",
   "name": "python",
   "nbconvert_exporter": "python",
   "pygments_lexer": "ipython2",
   "version": "2.7.13"
  }
 },
 "nbformat": 4,
 "nbformat_minor": 0
}
