{
 "cells": [
  {
   "cell_type": "code",
   "execution_count": null,
   "metadata": {
    "collapsed": true
   },
   "outputs": [],
   "source": [
    "# import the necessary packages\n",
    "import warnings\n",
    "from pyimagesearch.localbinarypatterns import LocalBinaryPatterns\n",
    "from sklearn.svm import LinearSVC\n",
    "from imutils import paths\n",
    "import argparse\n",
    "import cv2\n",
    "import matplotlib.image as mpimg\n",
    "import matplotlib.pyplot as plt\n",
    "%matplotlib inline"
   ]
  },
  {
   "cell_type": "code",
   "execution_count": null,
   "metadata": {
    "collapsed": false
   },
   "outputs": [],
   "source": [
    "# initialize the local binary patterns descriptor along with\n",
    "# the data and label lists\n",
    "desc = LocalBinaryPatterns(24, 8)\n",
    "data = []\n",
    "labels = []\n",
    "\n",
    "# loop over the training images\n",
    "for imagePath in paths.list_images(\"images/training\"):\n",
    "    # load the image, convert it to grayscale, and describe it\n",
    "    image = cv2.imread(imagePath)\n",
    "    gray = cv2.cvtColor(image, cv2.COLOR_BGR2GRAY)\n",
    "    hist = desc.describe(gray)\n",
    "\n",
    "    # extract the label from the image path, then update the\n",
    "    # label and data lists\n",
    "    labels.append(imagePath.split(\"/\")[-2])\n",
    "    data.append(hist)\n",
    "\n",
    "# train a Linear SVM on the data\n",
    "model = LinearSVC(C=100.0, random_state=42)\n",
    "model.fit(data, labels)"
   ]
  },
  {
   "cell_type": "code",
   "execution_count": null,
   "metadata": {
    "collapsed": false
   },
   "outputs": [],
   "source": [
    "# loop over the testing images\n",
    "for imagePath in paths.list_images(\"images/testing\"):\n",
    "    # load the image, convert it to grayscale, describe it,\n",
    "    # and classify it\n",
    "    image = cv2.imread(imagePath)\n",
    "    gray = cv2.cvtColor(image, cv2.COLOR_BGR2GRAY)\n",
    "    hist = desc.describe(gray)\n",
    "    prediction = model.predict(hist)[0]\n",
    "    \n",
    "    # display the image and the prediction\n",
    "    cv2.putText(image, prediction, (10, 30), cv2.FONT_HERSHEY_SIMPLEX,\n",
    "        1.0, (0, 0, 255), 3)\n",
    "    imgplot = plt.imshow(image)\n",
    "    plt.show()\n",
    "    \n",
    "# cv2.imshow(\"Image\", image)\n",
    "# cv2.waitKey(0)"
   ]
  }
 ],
 "metadata": {
  "kernelspec": {
   "display_name": "Python 2",
   "language": "python",
   "name": "python2"
  },
  "language_info": {
   "codemirror_mode": {
    "name": "ipython",
    "version": 2
   },
   "file_extension": ".py",
   "mimetype": "text/x-python",
   "name": "python",
   "nbconvert_exporter": "python",
   "pygments_lexer": "ipython2",
   "version": "2.7.13"
  }
 },
 "nbformat": 4,
 "nbformat_minor": 0
}
